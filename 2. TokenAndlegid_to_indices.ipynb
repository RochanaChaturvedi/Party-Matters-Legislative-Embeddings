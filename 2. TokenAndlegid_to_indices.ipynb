{
 "cells": [
  {
   "cell_type": "markdown",
   "metadata": {},
   "source": [
    "## Convert bill and legislator to indices and construct embedding matrix"
   ]
  },
  {
   "cell_type": "code",
   "execution_count": 15,
   "metadata": {},
   "outputs": [],
   "source": [
    "import numpy as np\n",
    "import pickle as pkl\n",
    "import pandas as pd"
   ]
  },
  {
   "cell_type": "code",
   "execution_count": 16,
   "metadata": {},
   "outputs": [],
   "source": [
    "def read_glove_vecs(glove_file):\n",
    "    with open(glove_file, 'r', encoding=\"utf8\") as f:\n",
    "        word_to_vec_map = {}\n",
    "        \n",
    "        for line in f:\n",
    "            line = line.strip().split()\n",
    "            curr_word = line[0]\n",
    "            word_to_vec_map[curr_word] = np.array(line[1:], dtype=np.float64)\n",
    "\n",
    "    return word_to_vec_map\n",
    "\n",
    "word_to_vec_map = read_glove_vecs('data/glove.6B.50d.txt')"
   ]
  },
  {
   "cell_type": "code",
   "execution_count": 20,
   "metadata": {},
   "outputs": [],
   "source": [
    "def bill_to_index(data1,data2,data3,max_len=400):\n",
    "    data=pd.concat([data1[[\"natural_id\",\"clip_summary\"]],data2[[\"natural_id\",\"clip_summary\"]],data3[[\"natural_id\",\"clip_summary\"]]])\n",
    "    data.drop_duplicates(subset =\"natural_id\",keep = 'first', inplace = True) \n",
    "    bill2idx={}\n",
    "    i=0\n",
    "    word2idx={}\n",
    "    word2count={}\n",
    "    idx2word={}\n",
    "    for index,row in data.iterrows():\n",
    "        text=row.clip_summary\n",
    "        text2idx=np.zeros(max_len) #zero padding automatically taken care of by initializing with 0\n",
    "        j = 0\n",
    "        for word in text:\n",
    "            if word in word2idx:\n",
    "                text2idx[j]= word2idx[word]\n",
    "                word2count[word]=word2count[word]+1\n",
    "            else:\n",
    "                i=i+1\n",
    "                word2count[word]=1\n",
    "                word2idx[word]=i\n",
    "                idx2word[i]=word\n",
    "                text2idx[j]=i\n",
    "            j=j+1   \n",
    "        bill2idx[row[\"natural_id\"]]=text2idx\n",
    "    return bill2idx,word2idx,idx2word,word2count"
   ]
  },
  {
   "cell_type": "code",
   "execution_count": 25,
   "metadata": {},
   "outputs": [],
   "source": [
    "with (open(\"data/full_data_20052012_processed.pkl\",\"rb\")) as file1:\n",
    "    data1=pkl.load(file1)\n",
    "with (open(\"data/full_data_20132014_processed.pkl\",\"rb\")) as file2:\n",
    "    data2=pkl.load(file2)\n",
    "with (open(\"data/full_data_20152016_processed.pkl\",\"rb\")) as file3:\n",
    "    data3=pkl.load(file3)\n",
    "\n",
    "data1 = data1.loc[:,~data1.columns.duplicated()]\n",
    "data3 = data3.loc[:,~data3.columns.duplicated()]\n",
    "data2 = data2.loc[:,~data2.columns.duplicated()]"
   ]
  },
  {
   "cell_type": "code",
   "execution_count": 26,
   "metadata": {},
   "outputs": [],
   "source": [
    "# Filter null summary\n",
    "data2=data2[data2['summary'].notnull()]\n",
    "data3=data3[data3['summary'].notnull()]\n",
    "\n",
    "#map legislator id to unique indices \n",
    "leg_ids=pd.concat([data1[\"leg_id\"],data2[\"leg_id\"],data3[\"leg_id\"]]).unique()\n",
    "leg_to_index={}\n",
    "i=0\n",
    "for leg_id in leg_ids:\n",
    "    leg_to_index[leg_id]=i\n",
    "    i=i+1\n",
    "data1[\"leg_index\"] = data1.leg_id.apply(lambda x: leg_to_index[x])\n",
    "data2[\"leg_index\"] = data2.leg_id.apply(lambda x: leg_to_index[x])\n",
    "data3[\"leg_index\"] = data3.leg_id.apply(lambda x: leg_to_index[x])\n",
    "\n",
    "#keep only those leg_id in test set that are present in training set\n",
    "data2=data2[data2.leg_index.isin(data1.leg_index)]\n",
    "data3=data3[data3.leg_index.isin(data1.leg_index)]\n",
    "\n",
    "#map text words to indices\n",
    "bill2idx, word2idx, idx2word,word2count = bill_to_index(data1,data2,data3,400)\n",
    "data1=pd.merge(data1,pd.DataFrame(bill2idx.items(),columns=[\"natural_id\",\"bill2idx\"]),on=\"natural_id\")\n",
    "data2=pd.merge(data2,pd.DataFrame(bill2idx.items(),columns=[\"natural_id\",\"bill2idx\"]),on=\"natural_id\")\n",
    "data3=pd.merge(data3,pd.DataFrame(bill2idx.items(),columns=[\"natural_id\",\"bill2idx\"]),on=\"natural_id\")"
   ]
  },
  {
   "cell_type": "code",
   "execution_count": 32,
   "metadata": {},
   "outputs": [],
   "source": [
    "data1=data1[[\"natural_id\",\"bill_type\",\"chamber\",\"pip\",\"d_perc\",\"i_perc\",\"r_perc\",\"total_sponsors\",\"summary\",\"party\",\"vote\",\"leg_index\",\"bill2idx\"]]\n",
    "data2=data2[[\"natural_id\",\"bill_type\",\"chamber\",\"pip\",\"d_perc\",\"i_perc\",\"r_perc\",\"total_sponsors\",\"summary\",\"party\",\"vote\",\"leg_index\",\"bill2idx\"]]\n",
    "data3=data3[[\"natural_id\",\"bill_type\",\"chamber\",\"pip\",\"d_perc\",\"i_perc\",\"r_perc\",\"total_sponsors\",\"summary\",\"party\",\"vote\",\"leg_index\",\"bill2idx\"]]\n",
    "emb_matrix = np.zeros((len(word2idx) + 1,50))\n",
    "\n",
    "for word, index in word2idx.items():\n",
    "    if word in word_to_vec_map:\n",
    "        emb_matrix[index, :] = word_to_vec_map[word]\n",
    "    else:\n",
    "        emb_matrix[index,:]=np.random.random(50)"
   ]
  },
  {
   "cell_type": "code",
   "execution_count": 33,
   "metadata": {},
   "outputs": [],
   "source": [
    "with (open(\"data_Final_20052012.pkl\", \"wb\")) as openfile:\n",
    "    pkl.dump(data1,openfile)\n",
    "with (open(\"data_Final_20132014.pkl\", \"wb\")) as openfile:\n",
    "    pkl.dump(data2,openfile)\n",
    "with (open(\"data_Final_20152016.pkl\", \"wb\")) as openfile:\n",
    "    pkl.dump(data3,openfile)\n",
    "with (open(\"dictionaries.pkl\", \"wb\")) as openfile:\n",
    "    pkl.dump([word2idx,idx2word,word_to_vec_map,leg_to_index],openfile)\n",
    "\n",
    "with (open(\"emb_matrix.pkl\", \"wb\")) as openfile:\n",
    "    pkl.dump(emb_matrix,openfile)"
   ]
  }
 ],
 "metadata": {
  "kernelspec": {
   "display_name": "Python 3",
   "language": "python",
   "name": "python3"
  },
  "language_info": {
   "codemirror_mode": {
    "name": "ipython",
    "version": 3
   },
   "file_extension": ".py",
   "mimetype": "text/x-python",
   "name": "python",
   "nbconvert_exporter": "python",
   "pygments_lexer": "ipython3",
   "version": "3.7.3"
  }
 },
 "nbformat": 4,
 "nbformat_minor": 2
}
